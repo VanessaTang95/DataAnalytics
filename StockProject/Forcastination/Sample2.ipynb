{
 "cells": [
  {
   "cell_type": "code",
   "execution_count": 1,
   "metadata": {},
   "outputs": [],
   "source": [
    "# This program predicts stock prices by using machine learning models\n",
    "\n",
    "#Install the dependencies\n",
    "import pandas as pd\n",
    "import numpy as np \n",
    "from sklearn.linear_model import LinearRegression\n",
    "from sklearn.svm import SVR\n",
    "from sklearn.model_selection import train_test_split\n",
    "import matplotlib.pyplot as plt"
   ]
  },
  {
   "cell_type": "code",
   "execution_count": 2,
   "metadata": {},
   "outputs": [
    {
     "data": {
      "text/html": [
       "<div>\n",
       "<style scoped>\n",
       "    .dataframe tbody tr th:only-of-type {\n",
       "        vertical-align: middle;\n",
       "    }\n",
       "\n",
       "    .dataframe tbody tr th {\n",
       "        vertical-align: top;\n",
       "    }\n",
       "\n",
       "    .dataframe thead th {\n",
       "        text-align: right;\n",
       "    }\n",
       "</style>\n",
       "<table border=\"1\" class=\"dataframe\">\n",
       "  <thead>\n",
       "    <tr style=\"text-align: right;\">\n",
       "      <th></th>\n",
       "      <th>high</th>\n",
       "      <th>low</th>\n",
       "      <th>open</th>\n",
       "      <th>close</th>\n",
       "      <th>volume</th>\n",
       "      <th>adjclose</th>\n",
       "      <th>ticker</th>\n",
       "    </tr>\n",
       "    <tr>\n",
       "      <th>date</th>\n",
       "      <th></th>\n",
       "      <th></th>\n",
       "      <th></th>\n",
       "      <th></th>\n",
       "      <th></th>\n",
       "      <th></th>\n",
       "      <th></th>\n",
       "    </tr>\n",
       "  </thead>\n",
       "  <tbody>\n",
       "    <tr>\n",
       "      <th>12/3/2014</th>\n",
       "      <td>48.500000</td>\n",
       "      <td>47.810001</td>\n",
       "      <td>48.439999</td>\n",
       "      <td>48.080002</td>\n",
       "      <td>23534800</td>\n",
       "      <td>43.164230</td>\n",
       "      <td>MSFT</td>\n",
       "    </tr>\n",
       "    <tr>\n",
       "      <th>12/4/2014</th>\n",
       "      <td>49.060001</td>\n",
       "      <td>48.200001</td>\n",
       "      <td>48.389999</td>\n",
       "      <td>48.840000</td>\n",
       "      <td>30320400</td>\n",
       "      <td>43.846523</td>\n",
       "      <td>MSFT</td>\n",
       "    </tr>\n",
       "    <tr>\n",
       "      <th>12/5/2014</th>\n",
       "      <td>48.970001</td>\n",
       "      <td>48.380001</td>\n",
       "      <td>48.820000</td>\n",
       "      <td>48.419998</td>\n",
       "      <td>27313400</td>\n",
       "      <td>43.469467</td>\n",
       "      <td>MSFT</td>\n",
       "    </tr>\n",
       "    <tr>\n",
       "      <th>12/8/2014</th>\n",
       "      <td>48.349998</td>\n",
       "      <td>47.450001</td>\n",
       "      <td>48.259998</td>\n",
       "      <td>47.700001</td>\n",
       "      <td>26663100</td>\n",
       "      <td>42.823078</td>\n",
       "      <td>MSFT</td>\n",
       "    </tr>\n",
       "    <tr>\n",
       "      <th>12/9/2014</th>\n",
       "      <td>47.919998</td>\n",
       "      <td>47.049999</td>\n",
       "      <td>47.110001</td>\n",
       "      <td>47.590000</td>\n",
       "      <td>24330500</td>\n",
       "      <td>42.724323</td>\n",
       "      <td>MSFT</td>\n",
       "    </tr>\n",
       "    <tr>\n",
       "      <th>12/10/2014</th>\n",
       "      <td>47.660000</td>\n",
       "      <td>46.700001</td>\n",
       "      <td>47.580002</td>\n",
       "      <td>46.900002</td>\n",
       "      <td>30431800</td>\n",
       "      <td>42.104874</td>\n",
       "      <td>MSFT</td>\n",
       "    </tr>\n",
       "    <tr>\n",
       "      <th>12/11/2014</th>\n",
       "      <td>47.740002</td>\n",
       "      <td>46.680000</td>\n",
       "      <td>47.080002</td>\n",
       "      <td>47.169998</td>\n",
       "      <td>29060400</td>\n",
       "      <td>42.347267</td>\n",
       "      <td>MSFT</td>\n",
       "    </tr>\n",
       "  </tbody>\n",
       "</table>\n",
       "</div>"
      ],
      "text/plain": [
       "                 high        low       open      close    volume   adjclose  \\\n",
       "date                                                                          \n",
       "12/3/2014   48.500000  47.810001  48.439999  48.080002  23534800  43.164230   \n",
       "12/4/2014   49.060001  48.200001  48.389999  48.840000  30320400  43.846523   \n",
       "12/5/2014   48.970001  48.380001  48.820000  48.419998  27313400  43.469467   \n",
       "12/8/2014   48.349998  47.450001  48.259998  47.700001  26663100  42.823078   \n",
       "12/9/2014   47.919998  47.049999  47.110001  47.590000  24330500  42.724323   \n",
       "12/10/2014  47.660000  46.700001  47.580002  46.900002  30431800  42.104874   \n",
       "12/11/2014  47.740002  46.680000  47.080002  47.169998  29060400  42.347267   \n",
       "\n",
       "           ticker  \n",
       "date               \n",
       "12/3/2014    MSFT  \n",
       "12/4/2014    MSFT  \n",
       "12/5/2014    MSFT  \n",
       "12/8/2014    MSFT  \n",
       "12/9/2014    MSFT  \n",
       "12/10/2014   MSFT  \n",
       "12/11/2014   MSFT  "
      ]
     },
     "execution_count": 2,
     "metadata": {},
     "output_type": "execute_result"
    }
   ],
   "source": [
    "#Get the stock data\n",
    "df = pd.read_csv('MSFT_5yr_data.csv')\n",
    "df.set_index('date', inplace=True)\n",
    "# Take a look at the data\n",
    "#print(df.head())\n",
    "df.head(7)"
   ]
  },
  {
   "cell_type": "code",
   "execution_count": 3,
   "metadata": {},
   "outputs": [
    {
     "name": "stdout",
     "output_type": "stream",
     "text": [
      "               close\n",
      "date                \n",
      "12/3/2014  48.080002\n",
      "12/4/2014  48.840000\n",
      "12/5/2014  48.419998\n",
      "12/8/2014  47.700001\n",
      "12/9/2014  47.590000\n"
     ]
    }
   ],
   "source": [
    "# Get the Adjusted Close Price\n",
    "df = df[['close']]\n",
    "#Take a look at the new data\n",
    "print(df.head())"
   ]
  },
  {
   "cell_type": "code",
   "execution_count": 4,
   "metadata": {},
   "outputs": [
    {
     "name": "stdout",
     "output_type": "stream",
     "text": [
      "                 close  Prediction\n",
      "date                              \n",
      "11/27/2019  152.320007         NaN\n",
      "11/29/2019  151.380005         NaN\n",
      "12/2/2019   149.550003         NaN\n",
      "12/3/2019   149.309998         NaN\n",
      "12/4/2019   149.850006         NaN\n"
     ]
    }
   ],
   "source": [
    "# A variable for predicting 'n' days out into the future\n",
    "forecast_out = 30 #'n=30' days\n",
    "#Create another column (the target or dependent variable) shifted 'n' units up\n",
    "df['Prediction'] = df[['close']].shift(-forecast_out)\n",
    "#print the new data set\n",
    "print(df.tail())"
   ]
  },
  {
   "cell_type": "code",
   "execution_count": 5,
   "metadata": {},
   "outputs": [
    {
     "name": "stdout",
     "output_type": "stream",
     "text": [
      "[[ 48.08000183]\n",
      " [ 48.84000015]\n",
      " [ 48.41999817]\n",
      " ...\n",
      " [137.4100037 ]\n",
      " [138.4299927 ]\n",
      " [136.3699951 ]]\n"
     ]
    }
   ],
   "source": [
    "### Create the independent data set (X)  #######\n",
    "# Convert the dataframe to a numpy array\n",
    "X = np.array(df.drop(['Prediction'],1))\n",
    "\n",
    "#Remove the last 'n' rows\n",
    "X = X[:-forecast_out]\n",
    "print(X)"
   ]
  },
  {
   "cell_type": "code",
   "execution_count": 6,
   "metadata": {},
   "outputs": [
    {
     "name": "stdout",
     "output_type": "stream",
     "text": [
      "[ 46.24000168  46.38999939  45.91999817 ... 149.5500031  149.3099976\n",
      " 149.8500061 ]\n"
     ]
    }
   ],
   "source": [
    "### Create the dependent data set (y)  #####\n",
    "# Convert the dataframe to a numpy array (All of the values including the NaN's)\n",
    "y = np.array(df['Prediction'])\n",
    "# Get all of the y values except the last 'n' rows\n",
    "y = y[:-forecast_out]\n",
    "print(y)"
   ]
  },
  {
   "cell_type": "code",
   "execution_count": 7,
   "metadata": {},
   "outputs": [],
   "source": [
    "# Split the data into 80% training and 20% testing\n",
    "x_train, x_test, y_train, y_test = train_test_split(X, y, test_size=0.2)"
   ]
  },
  {
   "cell_type": "code",
   "execution_count": 8,
   "metadata": {},
   "outputs": [
    {
     "data": {
      "text/plain": [
       "SVR(C=1000.0, cache_size=200, coef0=0.0, degree=3, epsilon=0.1, gamma=0.1,\n",
       "    kernel='rbf', max_iter=-1, shrinking=True, tol=0.001, verbose=False)"
      ]
     },
     "execution_count": 8,
     "metadata": {},
     "output_type": "execute_result"
    }
   ],
   "source": [
    "# Create and train the Support Vector Machine (Regressor)\n",
    "svr_rbf = SVR(kernel='rbf', C=1e3, gamma=0.1)\n",
    "svr_rbf.fit(x_train, y_train)"
   ]
  },
  {
   "cell_type": "code",
   "execution_count": 9,
   "metadata": {},
   "outputs": [
    {
     "name": "stdout",
     "output_type": "stream",
     "text": [
      "svm confidence:  0.9792619709464426\n"
     ]
    }
   ],
   "source": [
    "# Testing Model: Score returns the coefficient of determination R^2 of the prediction. \n",
    "# The best possible score is 1.0\n",
    "svm_confidence = svr_rbf.score(x_test, y_test)\n",
    "print(\"svm confidence: \", svm_confidence)"
   ]
  },
  {
   "cell_type": "code",
   "execution_count": 10,
   "metadata": {},
   "outputs": [
    {
     "data": {
      "text/plain": [
       "LinearRegression(copy_X=True, fit_intercept=True, n_jobs=None, normalize=False)"
      ]
     },
     "execution_count": 10,
     "metadata": {},
     "output_type": "execute_result"
    }
   ],
   "source": [
    "# Create and train the Linear Regression  Model\n",
    "lr = LinearRegression()\n",
    "# Train the model\n",
    "lr.fit(x_train, y_train)"
   ]
  },
  {
   "cell_type": "code",
   "execution_count": 11,
   "metadata": {},
   "outputs": [
    {
     "name": "stdout",
     "output_type": "stream",
     "text": [
      "lr confidence:  0.9772337584715298\n"
     ]
    }
   ],
   "source": [
    "# Testing Model: Score returns the coefficient of determination R^2 of the prediction. \n",
    "# The best possible score is 1.0\n",
    "lr_confidence = lr.score(x_test, y_test)\n",
    "print(\"lr confidence: \", lr_confidence)"
   ]
  },
  {
   "cell_type": "code",
   "execution_count": 12,
   "metadata": {},
   "outputs": [
    {
     "name": "stdout",
     "output_type": "stream",
     "text": [
      "[[137.2400055]\n",
      " [139.9400024]\n",
      " [140.7299957]\n",
      " [144.1900024]\n",
      " [142.8300018]\n",
      " [144.6100006]\n",
      " [143.3699951]\n",
      " [143.7200012]\n",
      " [144.5500031]\n",
      " [144.4600067]\n",
      " [144.0599976]\n",
      " [144.2599945]\n",
      " [145.9600067]\n",
      " [146.1100006]\n",
      " [147.0700073]\n",
      " [147.3099976]\n",
      " [148.0599976]\n",
      " [149.9700012]\n",
      " [150.3399963]\n",
      " [150.3899994]\n",
      " [149.6199951]\n",
      " [149.4799957]\n",
      " [149.5899963]\n",
      " [151.2299957]\n",
      " [152.0299988]\n",
      " [152.3200073]\n",
      " [151.3800049]\n",
      " [149.5500031]\n",
      " [149.3099976]\n",
      " [149.8500061]]\n"
     ]
    }
   ],
   "source": [
    "# Set x_forecast equal to the last 30 rows of the original data set from Close column\n",
    "x_forecast = np.array(df.drop(['Prediction'],1))[-forecast_out:]\n",
    "print(x_forecast)"
   ]
  },
  {
   "cell_type": "code",
   "execution_count": 13,
   "metadata": {
    "scrolled": true
   },
   "outputs": [
    {
     "name": "stdout",
     "output_type": "stream",
     "text": [
      "[141.84893917 144.64895127 145.46820806 149.05638279 147.64600408\n",
      " 149.49193886 148.20600019 148.56897147 149.42971889 149.33638878\n",
      " 148.92156226 149.12896758 150.89195284 151.04750292 152.04307087\n",
      " 152.29195106 153.0697331  155.05048841 155.43418913 155.48604448\n",
      " 154.68751713 154.54233177 154.65640709 156.35715652 157.1867939\n",
      " 157.4875451  156.51272246 154.61493244 154.36603648 154.92604836]\n",
      "[137.8074682  139.67044055 140.90733657 169.29959238 168.45311326\n",
      " 162.81453955 172.85503794 172.93177427 163.89924651 165.43467396\n",
      " 170.71948288 168.41200368 132.17305612 128.81023569 111.29555759\n",
      " 108.16532083 101.34040212  96.03413005  95.83928189  95.82024829\n",
      "  96.34132238  96.51117752  96.37511677  95.65014734  95.61024449\n",
      "  95.60538904  95.63780002  96.42231857  96.76362791  96.12316785]\n"
     ]
    }
   ],
   "source": [
    "# Print linear regression model predictions for the next 'n' days\n",
    "lr_prediction = lr.predict(x_forecast)\n",
    "print(lr_prediction)\n",
    "\n",
    "# Print support vector regressor model predictions for the next 'n' days\n",
    "svm_prediction = svr_rbf.predict(x_forecast)\n",
    "print(svm_prediction)"
   ]
  },
  {
   "cell_type": "code",
   "execution_count": 14,
   "metadata": {},
   "outputs": [
    {
     "data": {
      "image/png": "[encoded data removed]",
      "text/plain": [
       "<Figure size 432x288 with 1 Axes>"
      ]
     },
     "metadata": {
      "needs_background": "light"
     },
     "output_type": "display_data"
    },
    {
     "data": {
      "image/png": "[encoded data removed]",
      "text/plain": [
       "<Figure size 432x288 with 1 Axes>"
      ]
     },
     "metadata": {
      "needs_background": "light"
     },
     "output_type": "display_data"
    }
   ],
   "source": [
    "# This should be the [close] forcatination start at 12/5\n",
    "plt.plot(svm_prediction)\n",
    "plt.show()\n",
    "\n",
    "plt.plot(lr_prediction)\n",
    "plt.show()"
   ]
  },
  {
   "cell_type": "code",
   "execution_count": 18,
   "metadata": {},
   "outputs": [
    {
     "data": {
      "text/plain": [
       "numpy.ndarray"
      ]
     },
     "execution_count": 18,
     "metadata": {},
     "output_type": "execute_result"
    }
   ],
   "source": [
    "type(lr_prediction)"
   ]
  },
  {
   "cell_type": "code",
   "execution_count": 19,
   "metadata": {},
   "outputs": [
    {
     "data": {
      "text/html": [
       "<div>\n",
       "<style scoped>\n",
       "    .dataframe tbody tr th:only-of-type {\n",
       "        vertical-align: middle;\n",
       "    }\n",
       "\n",
       "    .dataframe tbody tr th {\n",
       "        vertical-align: top;\n",
       "    }\n",
       "\n",
       "    .dataframe thead th {\n",
       "        text-align: right;\n",
       "    }\n",
       "</style>\n",
       "<table border=\"1\" class=\"dataframe\">\n",
       "  <thead>\n",
       "    <tr style=\"text-align: right;\">\n",
       "      <th></th>\n",
       "      <th>0</th>\n",
       "    </tr>\n",
       "  </thead>\n",
       "  <tbody>\n",
       "    <tr>\n",
       "      <th>0</th>\n",
       "      <td>141.848939</td>\n",
       "    </tr>\n",
       "    <tr>\n",
       "      <th>1</th>\n",
       "      <td>144.648951</td>\n",
       "    </tr>\n",
       "    <tr>\n",
       "      <th>2</th>\n",
       "      <td>145.468208</td>\n",
       "    </tr>\n",
       "    <tr>\n",
       "      <th>3</th>\n",
       "      <td>149.056383</td>\n",
       "    </tr>\n",
       "    <tr>\n",
       "      <th>4</th>\n",
       "      <td>147.646004</td>\n",
       "    </tr>\n",
       "    <tr>\n",
       "      <th>5</th>\n",
       "      <td>149.491939</td>\n",
       "    </tr>\n",
       "    <tr>\n",
       "      <th>6</th>\n",
       "      <td>148.206000</td>\n",
       "    </tr>\n",
       "    <tr>\n",
       "      <th>7</th>\n",
       "      <td>148.568971</td>\n",
       "    </tr>\n",
       "    <tr>\n",
       "      <th>8</th>\n",
       "      <td>149.429719</td>\n",
       "    </tr>\n",
       "    <tr>\n",
       "      <th>9</th>\n",
       "      <td>149.336389</td>\n",
       "    </tr>\n",
       "    <tr>\n",
       "      <th>10</th>\n",
       "      <td>148.921562</td>\n",
       "    </tr>\n",
       "    <tr>\n",
       "      <th>11</th>\n",
       "      <td>149.128968</td>\n",
       "    </tr>\n",
       "    <tr>\n",
       "      <th>12</th>\n",
       "      <td>150.891953</td>\n",
       "    </tr>\n",
       "    <tr>\n",
       "      <th>13</th>\n",
       "      <td>151.047503</td>\n",
       "    </tr>\n",
       "    <tr>\n",
       "      <th>14</th>\n",
       "      <td>152.043071</td>\n",
       "    </tr>\n",
       "    <tr>\n",
       "      <th>15</th>\n",
       "      <td>152.291951</td>\n",
       "    </tr>\n",
       "    <tr>\n",
       "      <th>16</th>\n",
       "      <td>153.069733</td>\n",
       "    </tr>\n",
       "    <tr>\n",
       "      <th>17</th>\n",
       "      <td>155.050488</td>\n",
       "    </tr>\n",
       "    <tr>\n",
       "      <th>18</th>\n",
       "      <td>155.434189</td>\n",
       "    </tr>\n",
       "    <tr>\n",
       "      <th>19</th>\n",
       "      <td>155.486044</td>\n",
       "    </tr>\n",
       "    <tr>\n",
       "      <th>20</th>\n",
       "      <td>154.687517</td>\n",
       "    </tr>\n",
       "    <tr>\n",
       "      <th>21</th>\n",
       "      <td>154.542332</td>\n",
       "    </tr>\n",
       "    <tr>\n",
       "      <th>22</th>\n",
       "      <td>154.656407</td>\n",
       "    </tr>\n",
       "    <tr>\n",
       "      <th>23</th>\n",
       "      <td>156.357157</td>\n",
       "    </tr>\n",
       "    <tr>\n",
       "      <th>24</th>\n",
       "      <td>157.186794</td>\n",
       "    </tr>\n",
       "    <tr>\n",
       "      <th>25</th>\n",
       "      <td>157.487545</td>\n",
       "    </tr>\n",
       "    <tr>\n",
       "      <th>26</th>\n",
       "      <td>156.512722</td>\n",
       "    </tr>\n",
       "    <tr>\n",
       "      <th>27</th>\n",
       "      <td>154.614932</td>\n",
       "    </tr>\n",
       "    <tr>\n",
       "      <th>28</th>\n",
       "      <td>154.366036</td>\n",
       "    </tr>\n",
       "    <tr>\n",
       "      <th>29</th>\n",
       "      <td>154.926048</td>\n",
       "    </tr>\n",
       "  </tbody>\n",
       "</table>\n",
       "</div>"
      ],
      "text/plain": [
       "             0\n",
       "0   141.848939\n",
       "1   144.648951\n",
       "2   145.468208\n",
       "3   149.056383\n",
       "4   147.646004\n",
       "5   149.491939\n",
       "6   148.206000\n",
       "7   148.568971\n",
       "8   149.429719\n",
       "9   149.336389\n",
       "10  148.921562\n",
       "11  149.128968\n",
       "12  150.891953\n",
       "13  151.047503\n",
       "14  152.043071\n",
       "15  152.291951\n",
       "16  153.069733\n",
       "17  155.050488\n",
       "18  155.434189\n",
       "19  155.486044\n",
       "20  154.687517\n",
       "21  154.542332\n",
       "22  154.656407\n",
       "23  156.357157\n",
       "24  157.186794\n",
       "25  157.487545\n",
       "26  156.512722\n",
       "27  154.614932\n",
       "28  154.366036\n",
       "29  154.926048"
      ]
     },
     "execution_count": 19,
     "metadata": {},
     "output_type": "execute_result"
    }
   ],
   "source": [
    "df = pd.DataFrame(lr_prediction)\n",
    "df"
   ]
  },
  {
   "cell_type": "code",
   "execution_count": null,
   "metadata": {},
   "outputs": [],
   "source": []
  }
 ],
 "metadata": {
  "kernelspec": {
   "display_name": "Python 3",
   "language": "python",
   "name": "python3"
  },
  "language_info": {
   "codemirror_mode": {
    "name": "ipython",
    "version": 3
   },
   "file_extension": ".py",
   "mimetype": "text/x-python",
   "name": "python",
   "nbconvert_exporter": "python",
   "pygments_lexer": "ipython3",
   "version": "3.7.3"
  }
 },
 "nbformat": 4,
 "nbformat_minor": 2
}
